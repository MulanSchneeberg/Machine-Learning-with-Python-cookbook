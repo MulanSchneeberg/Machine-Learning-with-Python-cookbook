{
 "cells": [
  {
   "cell_type": "markdown",
   "metadata": {},
   "source": [
    "You have a categorical feature containing missing values that you want to\n",
    "replace with predicted values.\n",
    "\n",
    "The ideal solution is to train a machine learning classifier algorithm to predict\n",
    "the missing values, commonly a k-nearest neighbors (KNN) classifier"
   ]
  },
  {
   "cell_type": "markdown",
   "metadata": {},
   "source": [
    "When we have missing values in a categorical feature, our best solution is to\n",
    "open our toolbox of machine learning algorithms to predict the values of the\n",
    "missing observations. We can accomplish this by treating the feature with the\n",
    "missing values as the target vector and the other features as the feature matrix. A\n",
    "commonly used algorithm is KNN (discussed in depth later in this book), which\n",
    "assigns to the missing value the median class of the k nearest observations.\n",
    "Alternatively, we can fill in missing values with the most frequent class of the\n",
    "feature. While less sophisticated than KNN, it is much more scalable to larger\n",
    "data. In either case, it is advisable to include a binary feature indicating which\n",
    "observations contain imputed values."
   ]
  },
  {
   "cell_type": "code",
   "execution_count": 37,
   "metadata": {},
   "outputs": [],
   "source": [
    "import numpy as np\n",
    "from sklearn.neighbors import KNeighborsClassifier"
   ]
  },
  {
   "cell_type": "code",
   "execution_count": 38,
   "metadata": {},
   "outputs": [],
   "source": [
    "# Create feature matrix with categorical feature\n",
    "X = np.array([\n",
    "[0, 2.10, 1.45],\n",
    "[1, 1.18, 1.33],\n",
    "[0, 1.22, 1.27],\n",
    "[1, -0.21, -1.19]])"
   ]
  },
  {
   "cell_type": "code",
   "execution_count": 39,
   "metadata": {},
   "outputs": [],
   "source": [
    "# Create feature matrix with missing values in the categorical feature\n",
    "X_with_nan = np.array([\n",
    "[np.nan, 0.87, 1.31],\n",
    "[np.nan, -0.67, -0.22]])"
   ]
  },
  {
   "cell_type": "code",
   "execution_count": 40,
   "metadata": {},
   "outputs": [],
   "source": [
    "# Train KNN learner\n",
    "classifer=KNeighborsClassifier(n_neighbors=3, weights='distance')\n",
    "model=classifer.fit(X[:, 1:], X[:, 0])"
   ]
  },
  {
   "cell_type": "code",
   "execution_count": 41,
   "metadata": {},
   "outputs": [
    {
     "data": {
      "text/plain": [
       "array([0., 1.])"
      ]
     },
     "execution_count": 41,
     "metadata": {},
     "output_type": "execute_result"
    }
   ],
   "source": [
    "# Predict missing values' class\n",
    "imputed_values=model.predict(X_with_nan[:,1:])\n",
    "imputed_values"
   ]
  },
  {
   "cell_type": "code",
   "execution_count": 42,
   "metadata": {},
   "outputs": [
    {
     "data": {
      "text/plain": [
       "array([[ 0.  ,  0.87,  1.31],\n",
       "       [ 1.  , -0.67, -0.22]])"
      ]
     },
     "execution_count": 42,
     "metadata": {},
     "output_type": "execute_result"
    }
   ],
   "source": [
    "# Join column of predicted class with their other features\n",
    "\n",
    "X_with_imputed= np.hstack((imputed_values.reshape(-1,1), X_with_nan[:,1:]))\n",
    "X_with_imputed"
   ]
  },
  {
   "cell_type": "code",
   "execution_count": 43,
   "metadata": {},
   "outputs": [
    {
     "data": {
      "text/plain": [
       "array([[ 0.  ,  0.87,  1.31],\n",
       "       [ 1.  , -0.67, -0.22],\n",
       "       [ 0.  ,  2.1 ,  1.45],\n",
       "       [ 1.  ,  1.18,  1.33],\n",
       "       [ 0.  ,  1.22,  1.27],\n",
       "       [ 1.  , -0.21, -1.19]])"
      ]
     },
     "execution_count": 43,
     "metadata": {},
     "output_type": "execute_result"
    }
   ],
   "source": [
    "# Join two feature matrices\n",
    "np.vstack((X_with_imputed, X))\n"
   ]
  },
  {
   "cell_type": "markdown",
   "metadata": {},
   "source": [
    "An alternative solution is to fill in missing values with the feature’s most\n",
    "frequent value:"
   ]
  },
  {
   "cell_type": "code",
   "execution_count": 44,
   "metadata": {},
   "outputs": [
    {
     "ename": "TypeError",
     "evalue": "SimpleImputer.__init__() got an unexpected keyword argument 'axis'",
     "output_type": "error",
     "traceback": [
      "\u001b[1;31m---------------------------------------------------------------------------\u001b[0m",
      "\u001b[1;31mTypeError\u001b[0m                                 Traceback (most recent call last)",
      "\u001b[1;32mc:\\Users\\fanda\\git\\Machine Learning Cookbook\\chapter 05. Handling categorical data\\04. imputing missing class values.ipynb Cell 11\u001b[0m in \u001b[0;36m<cell line: 4>\u001b[1;34m()\u001b[0m\n\u001b[0;32m      <a href='vscode-notebook-cell:/c%3A/Users/fanda/git/Machine%20Learning%20Cookbook/chapter%2005.%20Handling%20categorical%20data/04.%20imputing%20missing%20class%20values.ipynb#X30sZmlsZQ%3D%3D?line=1'>2</a>\u001b[0m \u001b[39m# Join the two feature matrices\u001b[39;00m\n\u001b[0;32m      <a href='vscode-notebook-cell:/c%3A/Users/fanda/git/Machine%20Learning%20Cookbook/chapter%2005.%20Handling%20categorical%20data/04.%20imputing%20missing%20class%20values.ipynb#X30sZmlsZQ%3D%3D?line=2'>3</a>\u001b[0m X_complete \u001b[39m=\u001b[39m np\u001b[39m.\u001b[39mvstack((X_with_nan, X))\n\u001b[1;32m----> <a href='vscode-notebook-cell:/c%3A/Users/fanda/git/Machine%20Learning%20Cookbook/chapter%2005.%20Handling%20categorical%20data/04.%20imputing%20missing%20class%20values.ipynb#X30sZmlsZQ%3D%3D?line=3'>4</a>\u001b[0m imputer \u001b[39m=\u001b[39m SimpleImputer(strategy\u001b[39m=\u001b[39;49m\u001b[39m'\u001b[39;49m\u001b[39mmost_frequent\u001b[39;49m\u001b[39m'\u001b[39;49m, axis\u001b[39m=\u001b[39;49m\u001b[39m0\u001b[39;49m)\n\u001b[0;32m      <a href='vscode-notebook-cell:/c%3A/Users/fanda/git/Machine%20Learning%20Cookbook/chapter%2005.%20Handling%20categorical%20data/04.%20imputing%20missing%20class%20values.ipynb#X30sZmlsZQ%3D%3D?line=4'>5</a>\u001b[0m imputer\u001b[39m.\u001b[39mfit_transform(X_complete)\n",
      "\u001b[1;31mTypeError\u001b[0m: SimpleImputer.__init__() got an unexpected keyword argument 'axis'"
     ]
    }
   ],
   "source": [
    "from sklearn.impute import SimpleImputer\n",
    "# Join the two feature matrices\n",
    "X_complete = np.vstack((X_with_nan, X))\n",
    "imputer = SimpleImputer(strategy='most_frequent')\n",
    "imputer.fit_transform(X_complete)"
   ]
  },
  {
   "cell_type": "code",
   "execution_count": null,
   "metadata": {},
   "outputs": [],
   "source": []
  }
 ],
 "metadata": {
  "kernelspec": {
   "display_name": "Python 3.10.4 64-bit",
   "language": "python",
   "name": "python3"
  },
  "language_info": {
   "codemirror_mode": {
    "name": "ipython",
    "version": 3
   },
   "file_extension": ".py",
   "mimetype": "text/x-python",
   "name": "python",
   "nbconvert_exporter": "python",
   "pygments_lexer": "ipython3",
   "version": "3.10.4"
  },
  "orig_nbformat": 4,
  "vscode": {
   "interpreter": {
    "hash": "b4f27d9b98637a93dfc92790c67a6714c8bfd98755bed637fb445c0198654de1"
   }
  }
 },
 "nbformat": 4,
 "nbformat_minor": 2
}
