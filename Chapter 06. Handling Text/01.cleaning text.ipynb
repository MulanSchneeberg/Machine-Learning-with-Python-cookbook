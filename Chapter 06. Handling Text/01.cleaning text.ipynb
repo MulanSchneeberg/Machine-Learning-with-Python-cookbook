{
 "cells": [
  {
   "cell_type": "markdown",
   "metadata": {},
   "source": [
    "Most basic text cleaning operations should only replace Python’s core string\n",
    "operations, in particular strip, replace, and split:\n"
   ]
  },
  {
   "cell_type": "code",
   "execution_count": 23,
   "metadata": {},
   "outputs": [],
   "source": [
    "# Create text\n",
    "text_data = [\" Interrobang. By Aishwarya Henriette \",\n",
    "\"Parking And Going. By Karl Gautier\",\n",
    "\" Today Is The night. By Jarek Prakash \"]\n"
   ]
  },
  {
   "cell_type": "code",
   "execution_count": 24,
   "metadata": {},
   "outputs": [
    {
     "data": {
      "text/plain": [
       "['Interrobang. By Aishwarya Henriette',\n",
       " 'Parking And Going. By Karl Gautier',\n",
       " 'Today Is The night. By Jarek Prakash']"
      ]
     },
     "execution_count": 24,
     "metadata": {},
     "output_type": "execute_result"
    }
   ],
   "source": [
    "# Strip whitespaces\n",
    "\n",
    "\n",
    "\n",
    "listWithoutWhiteSpace=[string.strip() for string in text_data]\n",
    "listWithoutWhiteSpace"
   ]
  },
  {
   "cell_type": "code",
   "execution_count": 25,
   "metadata": {},
   "outputs": [
    {
     "data": {
      "text/plain": [
       "['Interrobang  By Aishwarya Henriette',\n",
       " 'Parking And Going  By Karl Gautier',\n",
       " 'Today Is The night  By Jarek Prakash']"
      ]
     },
     "execution_count": 25,
     "metadata": {},
     "output_type": "execute_result"
    }
   ],
   "source": [
    "# replace . with ''\n",
    "\n",
    "cleaned_list=[string.replace('.', ' ') for string in listWithoutWhiteSpace]\n",
    "cleaned_list"
   ]
  },
  {
   "cell_type": "code",
   "execution_count": 26,
   "metadata": {},
   "outputs": [
    {
     "data": {
      "text/plain": [
       "['INTERROBANG  BY AISHWARYA HENRIETTE',\n",
       " 'PARKING AND GOING  BY KARL GAUTIER',\n",
       " 'TODAY IS THE NIGHT  BY JAREK PRAKASH']"
      ]
     },
     "execution_count": 26,
     "metadata": {},
     "output_type": "execute_result"
    }
   ],
   "source": [
    "# apply a customn function \n",
    "\n",
    "def capitalizeFirstLetter (string):\n",
    "    return string.upper()\n",
    "\n",
    "[capitalizeFirstLetter(string) for string in cleaned_list]\n"
   ]
  },
  {
   "cell_type": "markdown",
   "metadata": {},
   "source": [
    "Finally, we can use regular expressions to make powerful string operations:"
   ]
  },
  {
   "cell_type": "code",
   "execution_count": 27,
   "metadata": {},
   "outputs": [
    {
     "data": {
      "text/plain": [
       "['XXXXXXXXXXX  XX XXXXXXXXX XXXXXXXXX',\n",
       " 'XXXXXXX XXX XXXXX  XX XXXX XXXXXXX',\n",
       " 'XXXXX XX XXX XXXXX  XX XXXXX XXXXXXX']"
      ]
     },
     "execution_count": 27,
     "metadata": {},
     "output_type": "execute_result"
    }
   ],
   "source": [
    "# Import library\n",
    "import re\n",
    "# Create function\n",
    "def replace_letters_with_X(string: str) -> str:\n",
    "    return re.sub(r\"[a-zA-Z]\", \"X\", string) #For example, the regular expression \"[ A-Za-z] \" specifies to match any single uppercase or lowercase letter\n",
    "# Apply function\n",
    "[replace_letters_with_X(string) for string in cleaned_list]"
   ]
  },
  {
   "cell_type": "markdown",
   "metadata": {},
   "source": [
    "Most text data will need to be cleaned before we can use it to build features.\n",
    "Most basic text cleaning can be completed using Python’s standard string\n",
    "operations. In the real world we will most likely define a custom cleaning\n",
    "function (e.g., capitalizer) combining some cleaning tasks and apply that to\n",
    "the text data.\n"
   ]
  },
  {
   "cell_type": "markdown",
   "metadata": {},
   "source": []
  }
 ],
 "metadata": {
  "kernelspec": {
   "display_name": "Python 3.10.4 64-bit",
   "language": "python",
   "name": "python3"
  },
  "language_info": {
   "codemirror_mode": {
    "name": "ipython",
    "version": 3
   },
   "file_extension": ".py",
   "mimetype": "text/x-python",
   "name": "python",
   "nbconvert_exporter": "python",
   "pygments_lexer": "ipython3",
   "version": "3.10.4"
  },
  "orig_nbformat": 4,
  "vscode": {
   "interpreter": {
    "hash": "b4f27d9b98637a93dfc92790c67a6714c8bfd98755bed637fb445c0198654de1"
   }
  }
 },
 "nbformat": 4,
 "nbformat_minor": 2
}
