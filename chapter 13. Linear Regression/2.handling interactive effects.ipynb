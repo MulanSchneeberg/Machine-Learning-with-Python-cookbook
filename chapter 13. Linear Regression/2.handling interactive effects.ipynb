{
 "cells": [
  {
   "cell_type": "markdown",
   "metadata": {},
   "source": [
    "You have a feature whose effect on the target variable depends on another\n",
    "feature\n",
    "\n",
    "Create an interaction term to capture that dependence using scikit-learn’s\n",
    "PolynomialFeatures:\n",
    "\n",
    "Sometimes a feature’s effect on our target variable is at least partially dependent\n",
    "on another feature. For example, imagine a simple coffee-based example where\n",
    "we have two binary features—the presence of sugar (sugar) and whether or not\n",
    "we have stirred (stirred)—and we want to predict if the coffee tastes sweet.\n",
    "Just putting sugar in the coffee (sugar=1, stirred=0) won’t make the coffee\n",
    "taste sweet (all the sugar is at the bottom!) and just stirring the coffee without\n",
    "adding sugar (sugar=0, stirred=1) won’t make it sweet either. Instead it is the\n",
    "interaction of putting sugar in the coffee and stirring the coffee (sugar=1,\n",
    "stirred=1) that will make a coffee taste sweet. The effects of sugar and stir\n",
    "on sweetness are dependent on each other. In this case we say there is an\n",
    "interaction effect between the features sugar and stirred.\n",
    "We can account for interaction effects by including a new feature comprising the\n",
    "product of corresponding values from the interacting features:\n",
    "\n",
    "![](./pics/PolynomialFeatures.jpg)"
   ]
  },
  {
   "cell_type": "code",
   "execution_count": 10,
   "metadata": {},
   "outputs": [],
   "source": [
    "from sklearn.datasets import load_boston\n",
    "from sklearn.linear_model import LinearRegression\n",
    "from sklearn.preprocessing import PolynomialFeatures"
   ]
  },
  {
   "cell_type": "code",
   "execution_count": 11,
   "metadata": {},
   "outputs": [
    {
     "name": "stderr",
     "output_type": "stream",
     "text": [
      "c:\\Users\\fanda\\AppData\\Local\\Programs\\Python\\Python310\\lib\\site-packages\\sklearn\\utils\\deprecation.py:87: FutureWarning: Function load_boston is deprecated; `load_boston` is deprecated in 1.0 and will be removed in 1.2.\n",
      "\n",
      "    The Boston housing prices dataset has an ethical problem. You can refer to\n",
      "    the documentation of this function for further details.\n",
      "\n",
      "    The scikit-learn maintainers therefore strongly discourage the use of this\n",
      "    dataset unless the purpose of the code is to study and educate about\n",
      "    ethical issues in data science and machine learning.\n",
      "\n",
      "    In this special case, you can fetch the dataset from the original\n",
      "    source::\n",
      "\n",
      "        import pandas as pd\n",
      "        import numpy as np\n",
      "\n",
      "        data_url = \"http://lib.stat.cmu.edu/datasets/boston\"\n",
      "        raw_df = pd.read_csv(data_url, sep=\"\\s+\", skiprows=22, header=None)\n",
      "        data = np.hstack([raw_df.values[::2, :], raw_df.values[1::2, :2]])\n",
      "        target = raw_df.values[1::2, 2]\n",
      "\n",
      "    Alternative datasets include the California housing dataset (i.e.\n",
      "    :func:`~sklearn.datasets.fetch_california_housing`) and the Ames housing\n",
      "    dataset. You can load the datasets as follows::\n",
      "\n",
      "        from sklearn.datasets import fetch_california_housing\n",
      "        housing = fetch_california_housing()\n",
      "\n",
      "    for the California housing dataset and::\n",
      "\n",
      "        from sklearn.datasets import fetch_openml\n",
      "        housing = fetch_openml(name=\"house_prices\", as_frame=True)\n",
      "\n",
      "    for the Ames housing dataset.\n",
      "  warnings.warn(msg, category=FutureWarning)\n"
     ]
    }
   ],
   "source": [
    "boston=load_boston()\n",
    "feature=boston.data[:, 0:2]\n",
    "target= boston.target\n"
   ]
  },
  {
   "cell_type": "code",
   "execution_count": 15,
   "metadata": {},
   "outputs": [],
   "source": [
    "# Create interaction term\n",
    "polyFeatures=PolynomialFeatures(interaction_only=True, include_bias=False, degree=3)\n",
    "feature_interative=polyFeatures.fit_transform(feature)\n",
    "\n",
    "\n",
    "regression=LinearRegression()\n",
    "model=regression.fit(feature_interative, target)"
   ]
  },
  {
   "cell_type": "code",
   "execution_count": 17,
   "metadata": {},
   "outputs": [
    {
     "data": {
      "text/plain": [
       "-365.1770742652552"
      ]
     },
     "execution_count": 17,
     "metadata": {},
     "output_type": "execute_result"
    }
   ],
   "source": [
    "model.predict(feature_interative)[0]*1000-target[0]*1000"
   ]
  },
  {
   "cell_type": "code",
   "execution_count": null,
   "metadata": {},
   "outputs": [],
   "source": []
  }
 ],
 "metadata": {
  "kernelspec": {
   "display_name": "Python 3.10.4 64-bit",
   "language": "python",
   "name": "python3"
  },
  "language_info": {
   "codemirror_mode": {
    "name": "ipython",
    "version": 3
   },
   "file_extension": ".py",
   "mimetype": "text/x-python",
   "name": "python",
   "nbconvert_exporter": "python",
   "pygments_lexer": "ipython3",
   "version": "3.10.4"
  },
  "orig_nbformat": 4,
  "vscode": {
   "interpreter": {
    "hash": "b4f27d9b98637a93dfc92790c67a6714c8bfd98755bed637fb445c0198654de1"
   }
  }
 },
 "nbformat": 4,
 "nbformat_minor": 2
}
