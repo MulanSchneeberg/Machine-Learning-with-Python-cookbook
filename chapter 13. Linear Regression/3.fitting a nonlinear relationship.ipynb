{
 "cells": [
  {
   "cell_type": "markdown",
   "metadata": {},
   "source": [
    "Discussion\n",
    "So far we have only discussed modeling linear relationships. An example of a\n",
    "linear relationship would be the number of stories a building has and the\n",
    "building’s height. In linear regression, we assume the effect of number of stories\n",
    "and building height is approximately constant, meaning a 20-story building will\n",
    "be roughly twice as high as a 10-story building, which will be roughly twice as\n",
    "high as a 5-story building. Many relationships of interest, however, are not\n",
    "strictly linear.\n",
    "Often we want to model a non-linear relationship—for example, the relationship\n",
    "between the number of hours a student studies and the score she gets on the test.\n",
    "Intuitively, we can imagine there is a big difference in test scores between\n",
    "students who study for one hour compared to students who did not study at all.\n",
    "However, there is a much smaller difference in test scores between a student who\n",
    "studied for 99 hours and a student who studied for 100 hours. The effect one\n",
    "hour of studying has on a student’s test score decreases as the number of hours\n",
    "increases.\n",
    "Polynomial regression is an extension of linear regression to allow us to model\n",
    "nonlinear relationships.\n",
    "\n",
    "![](./pics/polynomialFunction.jpg)\n",
    "\n",
    "where d is the degree of the polynomial. How are we able to use a linear\n",
    "regression for a nonlinear function? The answer is that we do not change how\n",
    "the linear regression fits the model, but rather only add polynomial features. That\n",
    "is, the linear regression does not “know” that the x\n",
    "2\n",
    "is a quadratic transformation\n",
    "of x. It just considers it one more variable.\n",
    "A more practical description might be in order. To model nonlinear relationships,\n",
    "we can create new features that raise an existing feature, x, up to some power: x^^2 or x^^3\n",
    ", and so on. The more of these new features we add, the more flexible the\n",
    "“line” created by our model.\n",
    "\n",
    "PolynomialFeatures has two important parameters. First, degree determines\n",
    "the maximum number of degrees for the polynomial features. For example,\n",
    "degree=3 will generate x\n",
    "2 and x\n",
    "3\n",
    ". Finally, by default PolynomialFeatures\n",
    "includes a feature containing only ones (called a bias). We can remove that by\n",
    "setting include_bias=False."
   ]
  },
  {
   "cell_type": "code",
   "execution_count": 1,
   "metadata": {},
   "outputs": [],
   "source": [
    "from sklearn.datasets import load_boston\n",
    "from sklearn.linear_model import LinearRegression\n",
    "from sklearn.preprocessing import PolynomialFeatures"
   ]
  },
  {
   "cell_type": "code",
   "execution_count": 4,
   "metadata": {},
   "outputs": [
    {
     "name": "stderr",
     "output_type": "stream",
     "text": [
      "c:\\Users\\fanda\\AppData\\Local\\Programs\\Python\\Python310\\lib\\site-packages\\sklearn\\utils\\deprecation.py:87: FutureWarning: Function load_boston is deprecated; `load_boston` is deprecated in 1.0 and will be removed in 1.2.\n",
      "\n",
      "    The Boston housing prices dataset has an ethical problem. You can refer to\n",
      "    the documentation of this function for further details.\n",
      "\n",
      "    The scikit-learn maintainers therefore strongly discourage the use of this\n",
      "    dataset unless the purpose of the code is to study and educate about\n",
      "    ethical issues in data science and machine learning.\n",
      "\n",
      "    In this special case, you can fetch the dataset from the original\n",
      "    source::\n",
      "\n",
      "        import pandas as pd\n",
      "        import numpy as np\n",
      "\n",
      "        data_url = \"http://lib.stat.cmu.edu/datasets/boston\"\n",
      "        raw_df = pd.read_csv(data_url, sep=\"\\s+\", skiprows=22, header=None)\n",
      "        data = np.hstack([raw_df.values[::2, :], raw_df.values[1::2, :2]])\n",
      "        target = raw_df.values[1::2, 2]\n",
      "\n",
      "    Alternative datasets include the California housing dataset (i.e.\n",
      "    :func:`~sklearn.datasets.fetch_california_housing`) and the Ames housing\n",
      "    dataset. You can load the datasets as follows::\n",
      "\n",
      "        from sklearn.datasets import fetch_california_housing\n",
      "        housing = fetch_california_housing()\n",
      "\n",
      "    for the California housing dataset and::\n",
      "\n",
      "        from sklearn.datasets import fetch_openml\n",
      "        housing = fetch_openml(name=\"house_prices\", as_frame=True)\n",
      "\n",
      "    for the Ames housing dataset.\n",
      "  warnings.warn(msg, category=FutureWarning)\n"
     ]
    }
   ],
   "source": [
    "boston=load_boston()\n",
    "feature=boston.data[:, 0:2]\n",
    "target=boston.target"
   ]
  },
  {
   "cell_type": "code",
   "execution_count": 5,
   "metadata": {},
   "outputs": [],
   "source": [
    "polynomial=PolynomialFeatures(degree=3, include_bias=False)\n",
    "feature_poly=polynomial.fit_transform(feature)\n",
    "regression=LinearRegression()\n",
    "model=regression.fit(feature_poly, target)\n"
   ]
  },
  {
   "cell_type": "code",
   "execution_count": 6,
   "metadata": {},
   "outputs": [
    {
     "data": {
      "text/plain": [
       "243.18225650302338"
      ]
     },
     "execution_count": 6,
     "metadata": {},
     "output_type": "execute_result"
    }
   ],
   "source": [
    "model.predict(feature_poly)[0]*1000-target[0]*1000"
   ]
  },
  {
   "cell_type": "code",
   "execution_count": null,
   "metadata": {},
   "outputs": [],
   "source": []
  }
 ],
 "metadata": {
  "kernelspec": {
   "display_name": "Python 3.10.4 64-bit",
   "language": "python",
   "name": "python3"
  },
  "language_info": {
   "codemirror_mode": {
    "name": "ipython",
    "version": 3
   },
   "file_extension": ".py",
   "mimetype": "text/x-python",
   "name": "python",
   "nbconvert_exporter": "python",
   "pygments_lexer": "ipython3",
   "version": "3.10.4"
  },
  "orig_nbformat": 4,
  "vscode": {
   "interpreter": {
    "hash": "b4f27d9b98637a93dfc92790c67a6714c8bfd98755bed637fb445c0198654de1"
   }
  }
 },
 "nbformat": 4,
 "nbformat_minor": 2
}
