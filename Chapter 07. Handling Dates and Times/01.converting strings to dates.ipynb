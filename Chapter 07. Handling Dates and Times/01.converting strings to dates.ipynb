{
 "cells": [
  {
   "cell_type": "markdown",
   "metadata": {},
   "source": [
    "Given a vector of strings representing dates and times, you want to transform\n",
    "them into time series data.\n",
    "Use pandas’ to_datetime with the format of the date and/or time specified in\n",
    "the format parameter:"
   ]
  },
  {
   "cell_type": "code",
   "execution_count": 19,
   "metadata": {},
   "outputs": [],
   "source": [
    "# Load libraries\n",
    "import numpy as np\n",
    "import pandas as pd"
   ]
  },
  {
   "cell_type": "code",
   "execution_count": 20,
   "metadata": {},
   "outputs": [],
   "source": [
    "# Create strings\n",
    "date_strings = np.array(['03-04-2005 11:35 PM',\n",
    "'23-05-2010 12:01 AM',\n",
    "'04-09-2009 09:09 PM'])\n"
   ]
  },
  {
   "cell_type": "code",
   "execution_count": 22,
   "metadata": {},
   "outputs": [
    {
     "data": {
      "text/plain": [
       "[Timestamp('2005-04-03 11:35:00'),\n",
       " Timestamp('2010-05-23 12:01:00'),\n",
       " Timestamp('2009-09-04 09:09:00')]"
      ]
     },
     "execution_count": 22,
     "metadata": {},
     "output_type": "execute_result"
    }
   ],
   "source": [
    "from datetime import date\n",
    "\n",
    "\n",
    "\n",
    "[pd.to_datetime(date, format='%d-%m-%Y %H:%M %p') for date in date_strings]"
   ]
  },
  {
   "cell_type": "markdown",
   "metadata": {},
   "source": [
    "We might also want to add an argument to the errors parameter to handle\n",
    "problems:"
   ]
  },
  {
   "cell_type": "code",
   "execution_count": null,
   "metadata": {},
   "outputs": [
    {
     "data": {
      "text/plain": [
       "[Timestamp('2005-04-03 11:35:00'),\n",
       " Timestamp('2010-05-23 12:01:00'),\n",
       " Timestamp('2009-09-04 09:09:00')]"
      ]
     },
     "execution_count": 13,
     "metadata": {},
     "output_type": "execute_result"
    }
   ],
   "source": [
    "# Convert to datetimes\n",
    "[pd.to_datetime(date, format=\"%d-%m-%Y %H:%M %p\", errors=\"coerce\")\n",
    "for date in date_strings]\n"
   ]
  },
  {
   "cell_type": "code",
   "execution_count": null,
   "metadata": {},
   "outputs": [
    {
     "data": {
      "text/plain": [
       "[NaT, NaT, NaT]"
      ]
     },
     "execution_count": 11,
     "metadata": {},
     "output_type": "execute_result"
    }
   ],
   "source": [
    "# Convert to datetimes\n",
    "import datetime\n",
    "\n",
    "\n",
    "[pd.to_datetime(datetime, format=\"%Y-%m-%d %H:%M:%S\", errors=\"coerce\")\n",
    "for date in date_strings]\n"
   ]
  },
  {
   "cell_type": "markdown",
   "metadata": {},
   "source": [
    "If errors=\"coerce\", then any problem that occurs will not raise an error (the\n",
    "default behavior) but instead will set the value causing the error to NaT (i.e., a\n",
    "missing value)."
   ]
  },
  {
   "cell_type": "markdown",
   "metadata": {},
   "source": [
    "Discussion\n",
    "When dates and times come as strings, we need to convert them into a data type\n",
    "Python can understand. While there are a number of Python tools for converting\n",
    "strings to datetimes, following our use of pandas in other recipes we can use\n",
    "to_datetime to conduct the transformation. One obstacle to strings representing\n",
    "dates and times is that the format of the strings can vary significantly between\n",
    "data sources. For example, one vector of dates might represent March 23rd, 2015\n",
    "as “03-23-15” while another might use “3|23|2015”. We can use the format\n",
    "parameter to specify the exact format of the string. Here are some common date\n",
    "and time formatting codes:\n",
    "\n",
    "![](./pics/DatetimeFormat.jpg)\n"
   ]
  },
  {
   "cell_type": "markdown",
   "metadata": {},
   "source": []
  }
 ],
 "metadata": {
  "kernelspec": {
   "display_name": "Python 3.10.4 64-bit",
   "language": "python",
   "name": "python3"
  },
  "language_info": {
   "codemirror_mode": {
    "name": "ipython",
    "version": 3
   },
   "file_extension": ".py",
   "mimetype": "text/x-python",
   "name": "python",
   "nbconvert_exporter": "python",
   "pygments_lexer": "ipython3",
   "version": "3.10.4"
  },
  "orig_nbformat": 4,
  "vscode": {
   "interpreter": {
    "hash": "b4f27d9b98637a93dfc92790c67a6714c8bfd98755bed637fb445c0198654de1"
   }
  }
 },
 "nbformat": 4,
 "nbformat_minor": 2
}
