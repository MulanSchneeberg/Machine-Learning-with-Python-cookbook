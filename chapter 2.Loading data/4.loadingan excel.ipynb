{
 "cells": [
  {
   "cell_type": "code",
   "execution_count": null,
   "metadata": {},
   "outputs": [],
   "source": [
    "import pandas as pd\n",
    "# Create URL\n",
    "url = 'https://tinyurl.com/simulated_excel'\n",
    "# Load data\n",
    "dataframe = pd.read_excel(url, sheetname=0, header=1)\n",
    "# View the first two rows\n",
    "dataframe.head(2)\n"
   ]
  },
  {
   "cell_type": "markdown",
   "metadata": {},
   "source": [
    "This solution is similar to our solution for reading CSV files. The main\n",
    "difference is the additional parameter, sheetname, that specifies which sheet in\n",
    "the Excel file we wish to load. sheetname can accept both strings containing the\n",
    "name of the sheet and integers pointing to sheet positions (zero-indexed). If we\n",
    "need to load multiple sheets, include them as a list. For example, sheetname=\n",
    "[0,1,2, \"Monthly Sales\"] will return a dictionary of pandas DataFrames\n",
    "containing the first, second, and third sheets and the sheet named Monthly\n",
    "Sales.\n"
   ]
  }
 ],
 "metadata": {
  "language_info": {
   "name": "python"
  },
  "orig_nbformat": 4
 },
 "nbformat": 4,
 "nbformat_minor": 2
}
