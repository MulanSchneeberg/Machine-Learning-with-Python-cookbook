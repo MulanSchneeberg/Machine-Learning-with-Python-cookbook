{
 "cells": [
  {
   "cell_type": "code",
   "execution_count": null,
   "metadata": {},
   "outputs": [],
   "source": [
    "import pandas as pd\n",
    "# Create URL\n",
    "url = 'https://tinyurl.com/simulated_json'\n",
    "# Load data\n",
    "dataframe = pd.read_json(url, orient='columns')\n",
    "# View the first two rows\n",
    "dataframe.head(2)\n"
   ]
  },
  {
   "cell_type": "markdown",
   "metadata": {},
   "source": [
    "Importing JSON files into pandas is similar to the last few recipes we have seen.\n",
    "The key difference is the orient parameter, which indicates to pandas how the\n",
    "JSON file is structured. However, it might take some experimenting to figure out\n",
    "which argument (split, records, index, columns, and values) is the right\n",
    "one. Another helpful tool pandas offers is json_normalize, which can help\n",
    "convert semistructured JSON data into a pandas DataFrame"
   ]
  }
 ],
 "metadata": {
  "kernelspec": {
   "display_name": "Python 3.10.4 64-bit",
   "language": "python",
   "name": "python3"
  },
  "language_info": {
   "name": "python",
   "version": "3.10.4"
  },
  "orig_nbformat": 4,
  "vscode": {
   "interpreter": {
    "hash": "b4f27d9b98637a93dfc92790c67a6714c8bfd98755bed637fb445c0198654de1"
   }
  }
 },
 "nbformat": 4,
 "nbformat_minor": 2
}
