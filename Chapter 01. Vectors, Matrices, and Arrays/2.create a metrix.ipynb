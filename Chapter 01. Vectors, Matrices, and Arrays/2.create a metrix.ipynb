{
 "cells": [
  {
   "cell_type": "code",
   "execution_count": 8,
   "metadata": {},
   "outputs": [
    {
     "data": {
      "text/plain": [
       "array([[1, 2],\n",
       "       [1, 2],\n",
       "       [1, 2]])"
      ]
     },
     "execution_count": 8,
     "metadata": {},
     "output_type": "execute_result"
    }
   ],
   "source": [
    "import numpy as np\n",
    "matrix=np.array([[1,2],[1,2],[1,2]])\n",
    "matrix\n"
   ]
  },
  {
   "cell_type": "code",
   "execution_count": 9,
   "metadata": {},
   "outputs": [
    {
     "data": {
      "text/plain": [
       "(3, 2)"
      ]
     },
     "execution_count": 9,
     "metadata": {},
     "output_type": "execute_result"
    }
   ],
   "source": [
    "matrix.shape"
   ]
  },
  {
   "cell_type": "code",
   "execution_count": 10,
   "metadata": {},
   "outputs": [
    {
     "data": {
      "text/plain": [
       "matrix([[1, 2],\n",
       "        [1, 2],\n",
       "        [1, 2]])"
      ]
     },
     "execution_count": 10,
     "metadata": {},
     "output_type": "execute_result"
    }
   ],
   "source": [
    "# NumPy actually has a dedicated matrix data structure\n",
    "np.mat([[1,2], [1,2],[1,2]])\n"
   ]
  },
  {
   "cell_type": "markdown",
   "metadata": {},
   "source": [
    "However, the matrix data structure is not recommended for two reasons. First,\n",
    "arrays are the de facto standard data structure of NumPy. Second, the vast\n",
    "majority of NumPy operations return arrays, not matrix objects."
   ]
  },
  {
   "cell_type": "markdown",
   "metadata": {},
   "source": [
    "稀疏矩阵 (Sparse matrix)\n",
    "稀疏矩阵，在数值分析中，是其元素大部分为零的矩阵。反之，如果大部分元素都非零，则这个矩阵是稠密的。在科学与工程领域中求解线性模型时经常出现大型的稀疏矩阵。 在使用计算机存储和操作稀疏矩阵时，经常需要修改标准算法以利用矩阵的稀疏结构。由于其自身的稀疏特性，通过压缩可以大大节省稀疏矩阵的内存代价。"
   ]
  },
  {
   "cell_type": "code",
   "execution_count": 11,
   "metadata": {},
   "outputs": [],
   "source": [
    "from scipy import sparse"
   ]
  },
  {
   "cell_type": "code",
   "execution_count": 15,
   "metadata": {},
   "outputs": [],
   "source": [
    "matrix=np.array([[0,0],[0,1],[3,0]])\n",
    "sparse_matrix=sparse.csr_matrix(matrix)"
   ]
  },
  {
   "cell_type": "markdown",
   "metadata": {},
   "source": [
    "A frequent situation in machine learning is having a huge amount of data;\n",
    "however, most of the elements in the data are zeros. For example, imagine a matrix where the columns are every movie on Netflix, the rows are every Netflix\n",
    "user, and the values are how many times a user has watched that particular\n",
    "movie. This matrix would have tens of thousands of columns and millions of\n",
    "rows! However, since most users do not watch most movies, the vast majority of\n",
    "elements would be zero."
   ]
  },
  {
   "cell_type": "markdown",
   "metadata": {},
   "source": [
    "Sparse matrices only store nonzero elements and assume all other values will be\n",
    "zero, leading to significant computational savings. In our solution, we created a\n",
    "NumPy array with two nonzero values, then converted it into a sparse matrix. If\n",
    "we view the sparse matrix we can see that only the nonzero values are stored"
   ]
  },
  {
   "cell_type": "code",
   "execution_count": 17,
   "metadata": {},
   "outputs": [
    {
     "name": "stdout",
     "output_type": "stream",
     "text": [
      "  (1, 1)\t1\n",
      "  (2, 0)\t3\n"
     ]
    }
   ],
   "source": [
    "print(sparse_matrix)"
   ]
  },
  {
   "cell_type": "markdown",
   "metadata": {},
   "source": [
    "There are a number of types of sparse matrices. However, in compressed sparse\n",
    "row (CSR) matrices, (1, 1) and (2, 0) represent the (zero-indexed) indices of\n",
    "the non-zero values 1 and 3, respectively. For example, the element 1 is in the\n",
    "second row and second column. We can see the advantage of sparse matrices if\n",
    "we create a much larger matrix with many more zero elements and then compare\n",
    "this larger matrix with our original sparse matrix"
   ]
  },
  {
   "cell_type": "code",
   "execution_count": 18,
   "metadata": {},
   "outputs": [
    {
     "name": "stdout",
     "output_type": "stream",
     "text": [
      "  (1, 1)\t1\n",
      "  (2, 0)\t3\n"
     ]
    }
   ],
   "source": [
    "# Create larger matrix\n",
    "matrix_large = np.array([[0, 0, 0, 0, 0, 0, 0, 0, 0, 0],\n",
    "[0, 1, 0, 0, 0, 0, 0, 0, 0, 0],\n",
    "[3, 0, 0, 0, 0, 0, 0, 0, 0, 0]])\n",
    "print(sparse.csr_matrix(matrix_large))"
   ]
  },
  {
   "cell_type": "markdown",
   "metadata": {},
   "source": [
    "As we can see, despite the fact that we added many more zero elements in the\n",
    "larger matrix, its sparse representation is exactly the same as our original sparse\n",
    "matrix. That is, the addition of zero elements did not change the size of the\n",
    "sparse matrix.\n"
   ]
  },
  {
   "cell_type": "markdown",
   "metadata": {},
   "source": []
  }
 ],
 "metadata": {
  "kernelspec": {
   "display_name": "Python 3.10.4 64-bit",
   "language": "python",
   "name": "python3"
  },
  "language_info": {
   "codemirror_mode": {
    "name": "ipython",
    "version": 3
   },
   "file_extension": ".py",
   "mimetype": "text/x-python",
   "name": "python",
   "nbconvert_exporter": "python",
   "pygments_lexer": "ipython3",
   "version": "3.10.4"
  },
  "orig_nbformat": 4,
  "vscode": {
   "interpreter": {
    "hash": "b4f27d9b98637a93dfc92790c67a6714c8bfd98755bed637fb445c0198654de1"
   }
  }
 },
 "nbformat": 4,
 "nbformat_minor": 2
}
