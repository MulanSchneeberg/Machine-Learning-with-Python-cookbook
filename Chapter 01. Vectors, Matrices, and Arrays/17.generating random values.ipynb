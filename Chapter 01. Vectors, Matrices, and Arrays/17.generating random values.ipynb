{
 "cells": [
  {
   "cell_type": "markdown",
   "metadata": {},
   "source": [
    "You want to generate pseudorandom values\n",
    "Use NumPy’s random\n"
   ]
  },
  {
   "cell_type": "code",
   "execution_count": 2,
   "metadata": {},
   "outputs": [
    {
     "data": {
      "text/plain": [
       "array([0.5488135 , 0.71518937, 0.60276338])"
      ]
     },
     "execution_count": 2,
     "metadata": {},
     "output_type": "execute_result"
    }
   ],
   "source": [
    "# Load library\n",
    "import numpy as np\n",
    "# Set seed\n",
    "np.random.seed(0)\n",
    "# Generate three random floats between 0.0 and 1.0\n",
    "np.random.random(3)\n"
   ]
  },
  {
   "cell_type": "markdown",
   "metadata": {},
   "source": [
    "NumPy offers a wide variety of means to generate random numbers, many more\n",
    "than can be covered here. In our solution we generated floats; however, it is also\n",
    "common to generate integers"
   ]
  },
  {
   "cell_type": "code",
   "execution_count": 3,
   "metadata": {},
   "outputs": [
    {
     "data": {
      "text/plain": [
       "array([3, 7, 9])"
      ]
     },
     "execution_count": 3,
     "metadata": {},
     "output_type": "execute_result"
    }
   ],
   "source": [
    "# Generate three random integers between 1 and 10\n",
    "np.random.randint(0, 11, 3)"
   ]
  },
  {
   "cell_type": "markdown",
   "metadata": {},
   "source": [
    "Alternatively, we can generate numbers by drawing them from a distribution"
   ]
  },
  {
   "cell_type": "code",
   "execution_count": 4,
   "metadata": {},
   "outputs": [
    {
     "data": {
      "text/plain": [
       "array([-1.42232584,  1.52006949, -0.29139398])"
      ]
     },
     "execution_count": 4,
     "metadata": {},
     "output_type": "execute_result"
    }
   ],
   "source": [
    "# Draw three numbers from a normal distribution with mean 0.0\n",
    "# and standard deviation of 1.0\n",
    "np.random.normal(0.0, 1.0, 3)"
   ]
  },
  {
   "cell_type": "code",
   "execution_count": 5,
   "metadata": {},
   "outputs": [
    {
     "data": {
      "text/plain": [
       "array([-0.98118713, -0.08939902,  1.46416405])"
      ]
     },
     "execution_count": 5,
     "metadata": {},
     "output_type": "execute_result"
    }
   ],
   "source": [
    "# Draw three numbers from a logistic distribution with mean 0.0 and scale of 1.0\n",
    "np.random.logistic(0.0, 1.0, 3)\n"
   ]
  },
  {
   "cell_type": "code",
   "execution_count": 6,
   "metadata": {},
   "outputs": [
    {
     "data": {
      "text/plain": [
       "array([1.47997717, 1.3927848 , 1.83607876])"
      ]
     },
     "execution_count": 6,
     "metadata": {},
     "output_type": "execute_result"
    }
   ],
   "source": [
    "# Draw three numbers greater than or equal to 1.0 and less than 2.0\n",
    "np.random.uniform(1.0, 2.0, 3)"
   ]
  },
  {
   "cell_type": "markdown",
   "metadata": {},
   "source": [
    "Finally, it can sometimes be useful to return the same random numbers multiple\n",
    "times to get predictable, repeatable results. We can do this by setting the “seed”\n",
    "(an integer) of the pseudorandom generator. Random processes with the same\n",
    "seed will always produce the same output. We will use seeds throughout this\n",
    "book so that the code you see in the book and the code you run on your\n",
    "computer produces the same results"
   ]
  }
 ],
 "metadata": {
  "kernelspec": {
   "display_name": "Python 3.10.4 64-bit",
   "language": "python",
   "name": "python3"
  },
  "language_info": {
   "codemirror_mode": {
    "name": "ipython",
    "version": 3
   },
   "file_extension": ".py",
   "mimetype": "text/x-python",
   "name": "python",
   "nbconvert_exporter": "python",
   "pygments_lexer": "ipython3",
   "version": "3.10.4"
  },
  "orig_nbformat": 4,
  "vscode": {
   "interpreter": {
    "hash": "b4f27d9b98637a93dfc92790c67a6714c8bfd98755bed637fb445c0198654de1"
   }
  }
 },
 "nbformat": 4,
 "nbformat_minor": 2
}
