{
 "cells": [
  {
   "cell_type": "markdown",
   "metadata": {},
   "source": [
    "You need to rescale the values of a numerical feature to be between two values"
   ]
  },
  {
   "cell_type": "code",
   "execution_count": 1,
   "metadata": {},
   "outputs": [],
   "source": [
    "from sklearn.preprocessing import MinMaxScaler\n",
    "import numpy as np\n"
   ]
  },
  {
   "cell_type": "code",
   "execution_count": 2,
   "metadata": {},
   "outputs": [],
   "source": [
    "feature=np.array([[-500.5],\n",
    "[-100.1],\n",
    "[0],\n",
    "[100.1],\n",
    "[900.9]])"
   ]
  },
  {
   "cell_type": "code",
   "execution_count": 3,
   "metadata": {},
   "outputs": [
    {
     "data": {
      "text/plain": [
       "array([[0.        ],\n",
       "       [0.28571429],\n",
       "       [0.35714286],\n",
       "       [0.42857143],\n",
       "       [1.        ]])"
      ]
     },
     "execution_count": 3,
     "metadata": {},
     "output_type": "execute_result"
    }
   ],
   "source": [
    "minMaxScaler=MinMaxScaler(feature_range=(0,1))\n",
    "rescaled_feature=minMaxScaler.fit_transform(feature)\n",
    "rescaled_feature"
   ]
  },
  {
   "cell_type": "markdown",
   "metadata": {},
   "source": [
    "Rescaling is a common preprocessing task in machine learning. Many of the\n",
    "algorithms described later in this book will assume all features are on the same\n",
    "scale, typically 0 to 1 or –1 to 1. There are a number of rescaling techniques, but\n",
    "one of the simplest is called min-max scaling. Min-max scaling uses the\n",
    "minimum and maximum values of a feature to rescale values to within a range.\n",
    "Specifically, min-max calculates\n",
    "\n",
    "![](./pics/minmaxscaler.jpg)"
   ]
  },
  {
   "cell_type": "markdown",
   "metadata": {},
   "source": [
    "scikit-learn’s MinMaxScaler offers two options to rescale a feature. One option\n",
    "is to use fit to calculate the minimum and maximum values of the feature, then\n",
    "use transform to rescale the feature. The second option is to use\n",
    "fit_transform to do both operations at once. There is no mathematical\n",
    "difference between the two options, but there is sometimes a practical benefit to\n",
    "keeping the operations separate because it allows us to apply the same transformation to different sets of the data."
   ]
  }
 ],
 "metadata": {
  "kernelspec": {
   "display_name": "Python 3.10.4 64-bit",
   "language": "python",
   "name": "python3"
  },
  "language_info": {
   "codemirror_mode": {
    "name": "ipython",
    "version": 3
   },
   "file_extension": ".py",
   "mimetype": "text/x-python",
   "name": "python",
   "nbconvert_exporter": "python",
   "pygments_lexer": "ipython3",
   "version": "3.10.4"
  },
  "orig_nbformat": 4,
  "vscode": {
   "interpreter": {
    "hash": "b4f27d9b98637a93dfc92790c67a6714c8bfd98755bed637fb445c0198654de1"
   }
  }
 },
 "nbformat": 4,
 "nbformat_minor": 2
}
