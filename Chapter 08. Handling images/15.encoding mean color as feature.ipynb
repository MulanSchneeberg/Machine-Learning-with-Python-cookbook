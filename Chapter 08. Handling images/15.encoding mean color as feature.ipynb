{
 "cells": [
  {
   "cell_type": "markdown",
   "metadata": {},
   "source": [
    "You want a feature based on the colors of an image\n",
    "\n",
    "Each pixel in an image is represented by the combination of multiple color\n",
    "channels (often three: red, green, and blue). Calculate the mean red, green, and\n",
    "blue channel values for an image to make three color features representing the\n",
    "average colors in that image"
   ]
  },
  {
   "cell_type": "code",
   "execution_count": 1,
   "metadata": {},
   "outputs": [
    {
     "data": {
      "text/plain": [
       "array([[ 90.52377319, 133.11940002, 169.02355957]])"
      ]
     },
     "execution_count": 1,
     "metadata": {},
     "output_type": "execute_result"
    }
   ],
   "source": [
    "# Load libraries\n",
    "import cv2\n",
    "import numpy as np\n",
    "from matplotlib import pyplot as plt\n",
    "# Load image as BGR\n",
    "image_bgr = cv2.imread(\"../sim_data/images/plane_256x256.jpg\", cv2.IMREAD_COLOR)\n",
    "# Calculate the mean of each channel\n",
    "channels = cv2.mean(image_bgr)\n",
    "# Swap blue and red values (making it RGB, not BGR)\n",
    "observation = np.array([(channels[2], channels[1], channels[0])])\n",
    "# Show mean channel values\n",
    "observation\n"
   ]
  },
  {
   "cell_type": "code",
   "execution_count": 2,
   "metadata": {},
   "outputs": [
    {
     "data": {
      "image/png": "[encoded data removed]",
      "text/plain": [
       "<Figure size 640x480 with 1 Axes>"
      ]
     },
     "metadata": {},
     "output_type": "display_data"
    }
   ],
   "source": [
    "# Show image\n",
    "plt.imshow(observation), plt.axis(\"off\")\n",
    "plt.show()"
   ]
  },
  {
   "cell_type": "markdown",
   "metadata": {},
   "source": [
    "The output is three feature values for an observation, one for each color channel\n",
    "in the image. These features can be used like any other features in learning\n",
    "algorithms to classify images according to their colors.\n"
   ]
  },
  {
   "cell_type": "markdown",
   "metadata": {},
   "source": []
  }
 ],
 "metadata": {
  "kernelspec": {
   "display_name": "Python 3.10.4 64-bit",
   "language": "python",
   "name": "python3"
  },
  "language_info": {
   "codemirror_mode": {
    "name": "ipython",
    "version": 3
   },
   "file_extension": ".py",
   "mimetype": "text/x-python",
   "name": "python",
   "nbconvert_exporter": "python",
   "pygments_lexer": "ipython3",
   "version": "3.10.4"
  },
  "orig_nbformat": 4,
  "vscode": {
   "interpreter": {
    "hash": "b4f27d9b98637a93dfc92790c67a6714c8bfd98755bed637fb445c0198654de1"
   }
  }
 },
 "nbformat": 4,
 "nbformat_minor": 2
}
