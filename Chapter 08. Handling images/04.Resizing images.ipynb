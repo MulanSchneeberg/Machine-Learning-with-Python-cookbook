{
 "cells": [
  {
   "cell_type": "markdown",
   "metadata": {},
   "source": [
    "You want to resize an image for further preprocessing.\n",
    "\n",
    "Use resize to change the size of an image\n"
   ]
  },
  {
   "cell_type": "code",
   "execution_count": 5,
   "metadata": {},
   "outputs": [
    {
     "data": {
      "image/png": "[encoded data removed]",
      "text/plain": [
       "<Figure size 640x480 with 1 Axes>"
      ]
     },
     "metadata": {},
     "output_type": "display_data"
    }
   ],
   "source": [
    "import numpy as np\n",
    "from matplotlib import pyplot as plt\n",
    "import cv2\n",
    "# Load image as grayscale\n",
    "image = cv2.imread(\"../sim_data/images/plane_256x256.jpg\", cv2.IMREAD_GRAYSCALE)\n",
    "# Resize image to 50 pixels by 50 pixels\n",
    "image_50x50 = cv2.resize(image, (50, 50))\n",
    "# View image\n",
    "plt.imshow(image_50x50, cmap=\"gray\"), plt.axis(\"off\")\n",
    "plt.show()\n"
   ]
  },
  {
   "cell_type": "markdown",
   "metadata": {},
   "source": [
    "Resizing images is a common task in image preprocessing for two reasons. First,\n",
    "images come in all shapes and sizes, and to be usable as features, images must\n",
    "have the same dimensions. This standardization of image size does come with\n",
    "costs, however; images are matrices of information and when we reduce the size\n",
    "of the image we are reducing the size of that matrix and the information it\n",
    "contains. Second, machine learning can require thousands or hundreds of\n",
    "thousands of images. When those images are very large they can take up a lot of\n",
    "memory, and by resizing them we can dramatically reduce memory usage. Some\n",
    "common image sizes for machine learning are 32 × 32, 64 × 64, 96 × 96, and\n",
    "256 × 256."
   ]
  },
  {
   "cell_type": "markdown",
   "metadata": {},
   "source": []
  }
 ],
 "metadata": {
  "kernelspec": {
   "display_name": "Python 3.10.4 64-bit",
   "language": "python",
   "name": "python3"
  },
  "language_info": {
   "codemirror_mode": {
    "name": "ipython",
    "version": 3
   },
   "file_extension": ".py",
   "mimetype": "text/x-python",
   "name": "python",
   "nbconvert_exporter": "python",
   "pygments_lexer": "ipython3",
   "version": "3.10.4"
  },
  "orig_nbformat": 4,
  "vscode": {
   "interpreter": {
    "hash": "b4f27d9b98637a93dfc92790c67a6714c8bfd98755bed637fb445c0198654de1"
   }
  }
 },
 "nbformat": 4,
 "nbformat_minor": 2
}
